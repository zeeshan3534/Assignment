{
 "cells": [
  {
   "cell_type": "code",
   "execution_count": 2,
   "metadata": {},
   "outputs": [
    {
     "name": "stdout",
     "output_type": "stream",
     "text": [
      "Twinkle, twinkle, little star,\n",
      "\tHow I wonder what you are!\n",
      "\t\tUp above the world so high,\n",
      "\t\tLike a diamond in the sky.\n",
      "Twinkle, twinkle, little, star\n",
      "\tHow I wonder what you are\n"
     ]
    }
   ],
   "source": [
    "print(\"Twinkle, twinkle, little star,\\n\\tHow I wonder what you are!\\n\\t\\tUp above the world so high,\\n\\t\\tLike a diamond in the sky.\\nTwinkle, twinkle, little, star\\n\\tHow I wonder what you are\")"
   ]
  },
  {
   "cell_type": "code",
   "execution_count": 3,
   "metadata": {},
   "outputs": [
    {
     "name": "stdout",
     "output_type": "stream",
     "text": [
      "3.7.4\n"
     ]
    }
   ],
   "source": [
    "#Question 2\n",
    "import platform\n",
    "print(platform.python_version())"
   ]
  },
  {
   "cell_type": "code",
   "execution_count": 4,
   "metadata": {},
   "outputs": [
    {
     "name": "stdout",
     "output_type": "stream",
     "text": [
      "Date : 31-12-2021 and Time: 14:56:53\n"
     ]
    }
   ],
   "source": [
    "#Question 3\n",
    "import datetime\n",
    "dt=datetime.datetime.now()\n",
    "print(dt.strftime(\"Date : %d-%m-%Y and Time: %H:%M:%S\"))"
   ]
  },
  {
   "cell_type": "code",
   "execution_count": 5,
   "metadata": {},
   "outputs": [
    {
     "name": "stdout",
     "output_type": "stream",
     "text": [
      "Enter the radius of the circle : 3\n",
      "The area of the circle is: 28.274333882308138\n"
     ]
    }
   ],
   "source": [
    "#Question 4\n",
    "from math import pi\n",
    "radius = int(input (\"Enter the radius of the circle : \"))\n",
    "print (\"The area of the circle is: \" + str(pi * radius**2))"
   ]
  },
  {
   "cell_type": "code",
   "execution_count": 6,
   "metadata": {},
   "outputs": [
    {
     "name": "stdout",
     "output_type": "stream",
     "text": [
      "Enter first name: Rameen\n",
      "Enter last name: Irfan\n",
      "Name:  Rameen Irfan\n",
      "Reversed =:  nafrI neemaR\n"
     ]
    }
   ],
   "source": [
    "#Question 5\n",
    "first = str(input(\"Enter first name: \"))\n",
    "last = str(input(\"Enter last name: \"))\n",
    "n = first +\" \" + last\n",
    "print (\"Name: \",n)\n",
    "r =\"\" .join(reversed(n))\n",
    "print (\"Reversed =: \",r)"
   ]
  },
  {
   "cell_type": "code",
   "execution_count": 7,
   "metadata": {},
   "outputs": [
    {
     "name": "stdout",
     "output_type": "stream",
     "text": [
      "Enter 1st no:25\n",
      "Enter 2nd no:7\n",
      "Sum of 25 and 7 is 32\n"
     ]
    }
   ],
   "source": [
    "#Question 6\n",
    "x =int(input(\"Enter 1st no:\"))\n",
    "y =int(input(\"Enter 2nd no:\"))\n",
    "add = x+y\n",
    "print(\"Sum of {} and {} is {}\".format(x,y,add))"
   ]
  }
 ],
 "metadata": {
  "kernelspec": {
   "display_name": "Python 3",
   "language": "python",
   "name": "python3"
  },
  "language_info": {
   "codemirror_mode": {
    "name": "ipython",
    "version": 3
   },
   "file_extension": ".py",
   "mimetype": "text/x-python",
   "name": "python",
   "nbconvert_exporter": "python",
   "pygments_lexer": "ipython3",
   "version": "3.7.4"
  }
 },
 "nbformat": 4,
 "nbformat_minor": 2
}

