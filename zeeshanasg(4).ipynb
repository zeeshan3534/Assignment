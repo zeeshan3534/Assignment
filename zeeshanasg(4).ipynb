{
 "cells": [
  {
   "cell_type": "code",
   "execution_count": 10,
   "metadata": {},
   "outputs": [
    {
     "name": "stdout",
     "output_type": "stream",
     "text": [
      "Select the operation you wanna perform: *\n",
      "Enter the 1st number: 2\n",
      "Enter the 2nd number: 2\n",
      "4.0\n"
     ]
    }
   ],
   "source": [
    "user_input_opt = input(\"Select the operation you wanna perform: \")\n",
    "user_input_1 = (float(input(\"Enter the 1st number: \")))\n",
    "user_input_2 = (float(input(\"Enter the 2nd number: \")))\n",
    "def addition():\n",
    "    add = user_input_1 + user_input_2\n",
    "    return add\n",
    "def subtraction():\n",
    "    sub = user_input_1 - user_input_2\n",
    "    return sub\n",
    "def multiplication():\n",
    "    mul = user_input_1 * user_input_2\n",
    "    return mul\n",
    "def division():\n",
    "    div = user_input_1 / user_input_2\n",
    "    return div\n",
    "def power():\n",
    "    pow = user_input_1 ** user_input_2\n",
    "    print(pow)\n",
    "if user_input_opt == \"+\" or user_input_opt == \"Addition\":\n",
    "    print(addition())\n",
    "elif user_input_opt == \"-\" or user_input_opt == \"Subtraction\":\n",
    "    print(subtraction())\n",
    "elif user_input_opt == \"*\" or user_input_opt == \"Multiplication\":\n",
    "    print(multiplication())\n",
    "elif user_input_opt == \"/\" or user_input_opt == \"Division\":\n",
    "    print(division())\n",
    "elif user_input_opt == \"^\" or user_input_opt == \"Power\":\n",
    "    print(power())"
   ]
  },
  {
   "cell_type": "code",
   "execution_count": 11,
   "metadata": {},
   "outputs": [
    {
     "name": "stdout",
     "output_type": "stream",
     "text": [
      "{'Zeeshan': False}\n",
      "{1: True}\n",
      "{1.2: False}\n",
      "{'z': False}\n"
     ]
    }
   ],
   "source": [
    "abc = [\"Zeeshan\" , 1 ,1.2 , 'z']\n",
    "for i in abc:\n",
    "    i_int = isinstance(i , int)\n",
    "    set = {i:i_int}\n",
    "    print(set)"
   ]
  },
  {
   "cell_type": "code",
   "execution_count": 12,
   "metadata": {},
   "outputs": [
    {
     "name": "stdout",
     "output_type": "stream",
     "text": [
      "Current Dict is:  {'FName': 'Zeeshan'}\n",
      "Updated Dict is:  {'FName': 'Zeeshan', 'SName': 'Khan'}\n"
     ]
    }
   ],
   "source": [
    "d = {'FName':'Zeeshan'}\n",
    "print(\"Current Dict is: \", d)\n",
    "d['SName'] = 'Khan'\n",
    "print(\"Updated Dict is: \", d)"
   ]
  },
  {
   "cell_type": "code",
   "execution_count": 13,
   "metadata": {},
   "outputs": [
    {
     "name": "stdout",
     "output_type": "stream",
     "text": [
      "10\n"
     ]
    }
   ],
   "source": [
    "d = {\"a\" : 1 , \"b\" : 2 , \"c\" : 3 , \"d\" : 4}\n",
    "add = sum(d.values())\n",
    "print(add)"
   ]
  },
  {
   "cell_type": "code",
   "execution_count": 14,
   "metadata": {},
   "outputs": [
    {
     "name": "stdout",
     "output_type": "stream",
     "text": [
      "[3, 6]\n"
     ]
    }
   ],
   "source": [
    "list = [1,2,3,3,5,6,6]\n",
    "def unique(list):\n",
    "    lst = []\n",
    "    dup_lst = []\n",
    "    for i in list:\n",
    "        if i not in lst:\n",
    "            lst.append(i)\n",
    "        else:\n",
    "            dup_lst.append(i)\n",
    "    return(dup_lst)\n",
    "print(unique(list))"
   ]
  },
  {
   "cell_type": "code",
   "execution_count": 15,
   "metadata": {},
   "outputs": [
    {
     "name": "stdout",
     "output_type": "stream",
     "text": [
      "The key does not exist in the dictionary.\n"
     ]
    }
   ],
   "source": [
    "dict = {'Zeeshan': \"frd1\", 'Ali':\"frd2\", 'Daniyal':\"frd3\"} \n",
    "temp = 'Shaheer'\n",
    "if temp in dict.keys(): \n",
    "        print(\"The key is present.\") \n",
    "else: \n",
    "        print(\"The key does not exist in the dictionary.\") "
   ]
  },
  {
   "cell_type": "code",
   "execution_count": null,
   "metadata": {},
   "outputs": [],
   "source": []
  }
 ],
 "metadata": {
  "kernelspec": {
   "display_name": "Python 3",
   "language": "python",
   "name": "python3"
  },
  "language_info": {
   "codemirror_mode": {
    "name": "ipython",
    "version": 3
   },
   "file_extension": ".py",
   "mimetype": "text/x-python",
   "name": "python",
   "nbconvert_exporter": "python",
   "pygments_lexer": "ipython3",
   "version": "3.7.4"
  }
 },
 "nbformat": 4,
 "nbformat_minor": 2
}
