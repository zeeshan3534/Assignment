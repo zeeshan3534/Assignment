{
 "cells": [
  {
   "cell_type": "code",
   "execution_count": 1,
   "metadata": {},
   "outputs": [
    {
     "name": "stdout",
     "output_type": "stream",
     "text": [
      "Twinkle, twinkle, little star,\n",
      "\tHow I wonder what you are!\n",
      "\t\tUp above the world so high,\n",
      "\t\tLike a diamond in the sky.\n",
      "Twinkle, twinkle, little star,\n",
      "\tHow I wonder what you are\n"
     ]
    }
   ],
   "source": [
    "#no1\n",
    "print(\"Twinkle, twinkle, little star,\\n\\tHow I wonder what you are!\\n\\t\\tUp above the world so high,\\n\\t\\tLike a diamond in the sky.\\nTwinkle, twinkle, little star,\\n\\tHow I wonder what you are\")\n"
   ]
  },
  {
   "cell_type": "code",
   "execution_count": null,
   "metadata": {},
   "outputs": [],
   "source": [
    "#no2\n",
    "import platform\n",
    "print(platform.python_version())"
   ]
  },
  {
   "cell_type": "code",
   "execution_count": 3,
   "metadata": {},
   "outputs": [
    {
     "name": "stdout",
     "output_type": "stream",
     "text": [
      "Date : 2021-10-24 and Time: 17:23:12\n"
     ]
    }
   ],
   "source": [
    "#no3\n",
    "import datetime\n",
    "t=datetime.datetime.now()\n",
    "print(t.strftime(\"Date : %Y-%m-%d and Time: %H:%M:%S\"))"
   ]
  },
  {
   "cell_type": "code",
   "execution_count": 4,
   "metadata": {},
   "outputs": [
    {
     "name": "stdout",
     "output_type": "stream",
     "text": [
      "Enter radius : 2.2\n",
      "The area of the circle is: 15.205308443374602\n"
     ]
    }
   ],
   "source": [
    "#no4\n",
    "from math import pi\n",
    "r = float(input (\"Enter radius : \"))\n",
    "print (\"The area of the circle is: \" + str(pi * r**2))"
   ]
  },
  {
   "cell_type": "code",
   "execution_count": 5,
   "metadata": {},
   "outputs": [
    {
     "name": "stdout",
     "output_type": "stream",
     "text": [
      "Enter first name: zeeshan\n",
      "Enter last name: khan\n",
      "Reversed =:  nahk nahseez\n"
     ]
    }
   ],
   "source": [
    "#no5\n",
    "f = input(\"Enter first name: \")\n",
    "l= input(\"Enter last name: \")\n",
    "name = f +\" \" + l\n",
    "reverse =\"\" .join(reversed(name))\n",
    "print (\"Reversed =: \",reverse)\n"
   ]
  },
  {
   "cell_type": "code",
   "execution_count": 6,
   "metadata": {},
   "outputs": [
    {
     "name": "stdout",
     "output_type": "stream",
     "text": [
      "Enter first no:1\n",
      "Enter second no:1\n",
      "Sum is 2\n"
     ]
    }
   ],
   "source": [
    "#no6\n",
    "a =int(input(\"Enter first no:\"))\n",
    "b =int(input(\"Enter second no:\"))\n",
    "sum = a+b\n",
    "print(\"Sum is {}\".format(sum))"
   ]
  },
  {
   "cell_type": "code",
   "execution_count": 10,
   "metadata": {},
   "outputs": [
    {
     "name": "stdout",
     "output_type": "stream",
     "text": [
      "Science Marks Obtained: 45\n",
      "English Marks Obtained: 67\n",
      "Maths Marks Obtained: 88\n",
      "Physics Marks Obtained: 55\n",
      "Islamiat Marks Obtained: 67\n",
      "TOTAL MARKS =  322\n",
      "Your percentage is 64.4 and grade B\n"
     ]
    }
   ],
   "source": [
    "#no7\n",
    "sci = eval(input(\"Science Marks Obtained: \"))\n",
    "english = eval(input(\"English Marks Obtained: \"))\n",
    "math = eval(input(\"Maths Marks Obtained: \"))\n",
    "phy = eval(input(\"Physics Marks Obtained: \"))\n",
    "islamiat = eval(input(\"Islamiat Marks Obtained: \"))\n",
    "Totalmarks = sci+english+math+phy+islamiat\n",
    "print (\"TOTAL MARKS = \",Totalmarks)\n",
    "if sci>100 or sci<0 and english>100 or english< 0 and math>100 or math<0 and phy>100 or phy<0 and islamiat>100 or islamiat<0 :\n",
    "    print(\"Please Enter the Correct Marks\")\n",
    "else:\n",
    "  total = 500\n",
    "  percent_age = ((Totalmarks)/500)*100\n",
    "  percent_age = round(percent_age , 2)\n",
    "  if percent_age <= 100 and percent_age >= 80: print(f\"Your percentage is {percent_age} and grade A+\")\n",
    "  elif percent_age <= 80 and percent_age >= 70: print(f\"Your percentage is {percent_age} and grade A\")\n",
    "  elif percent_age <= 70 and percent_age >= 60: print(f\"Your percentage is {percent_age} and grade B\")\n",
    "  elif percent_age <= 60 and percent_age >= 50: print(f\"Your percentage is {percent_age} and grade C\")\n",
    "  elif percent_age <= 50 and percent_age >= 40: print(f\"Your percentage is {percent_age} and grade D\")\n",
    "  elif percent_age <= 40 and percent_age >= 33: print(f\"Your percentage is {percent_age} and grade E\") \n",
    "  else: print(f\"Yours percentage is {percent_age} and your are failed\")"
   ]
  },
  {
   "cell_type": "code",
   "execution_count": 13,
   "metadata": {},
   "outputs": [
    {
     "name": "stdout",
     "output_type": "stream",
     "text": [
      "Enter a number: 3\n",
      "number 3 is Odd\n"
     ]
    }
   ],
   "source": [
    "#no8\n",
    "n= int(input(\"Enter a number: \"))\n",
    "if (n % 2) == 0:\n",
    "   print(\"number {0} is Even\".format(n))\n",
    "else:\n",
    "   print(\"number {0} is Odd\".format(n))"
   ]
  },
  {
   "cell_type": "code",
   "execution_count": 15,
   "metadata": {},
   "outputs": [
    {
     "name": "stdout",
     "output_type": "stream",
     "text": [
      "Length of list is:  5\n"
     ]
    }
   ],
   "source": [
    "#no9\n",
    "test = [1, 2, 3, 4, 5]\n",
    "print(\"Length of list is: \",len(test))"
   ]
  },
  {
   "cell_type": "code",
   "execution_count": 16,
   "metadata": {},
   "outputs": [
    {
     "name": "stdout",
     "output_type": "stream",
     "text": [
      "Sum of all elements in given list:  15\n"
     ]
    }
   ],
   "source": [
    "#no10\n",
    "test = [1, 2, 3, 4, 5]\n",
    "total = 0\n",
    "\n",
    "for ele in range(0, len(test)):\n",
    "    total = total + test[ele]\n",
    " \n",
    "\n",
    "print(\"Sum of all elements in given list: \", total)"
   ]
  },
  {
   "cell_type": "code",
   "execution_count": 17,
   "metadata": {},
   "outputs": [
    {
     "name": "stdout",
     "output_type": "stream",
     "text": [
      "Length of list is:  5\n"
     ]
    }
   ],
   "source": [
    "#no11\n",
    "test = [1, 2, 3, 4, 5]\n",
    "print(\"Length of list is: \",max(test))"
   ]
  },
  {
   "cell_type": "code",
   "execution_count": 18,
   "metadata": {},
   "outputs": [
    {
     "name": "stdout",
     "output_type": "stream",
     "text": [
      "[1, 1, 2, 3]\n"
     ]
    }
   ],
   "source": [
    "#no12\n",
    "test = [1, 1, 2, 3, 5, 8, 13, 21, 34, 55, 89]\n",
    "new = []\n",
    "for ele in test:\n",
    "    if ele <5:\n",
    "        new.append(ele)\n",
    "print(new)"
   ]
  },
  {
   "cell_type": "code",
   "execution_count": null,
   "metadata": {},
   "outputs": [],
   "source": []
  }
 ],
 "metadata": {
  "kernelspec": {
   "display_name": "Python 3",
   "language": "python",
   "name": "python3"
  },
  "language_info": {
   "codemirror_mode": {
    "name": "ipython",
    "version": 3
   },
   "file_extension": ".py",
   "mimetype": "text/x-python",
   "name": "python",
   "nbconvert_exporter": "python",
   "pygments_lexer": "ipython3",
   "version": "3.7.4"
  }
 },
 "nbformat": 4,
 "nbformat_minor": 2
}
